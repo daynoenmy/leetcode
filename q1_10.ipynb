{
 "cells": [
  {
   "cell_type": "markdown",
   "metadata": {},
   "source": [
    "### 第3题"
   ]
  },
  {
   "cell_type": "code",
   "execution_count": 1,
   "metadata": {},
   "outputs": [
    {
     "name": "stdout",
     "output_type": "stream",
     "text": [
      "5\n"
     ]
    }
   ],
   "source": [
    "def lengthOfLongestSubstring(s: str) -> int:\n",
    "    dic,res,i = {},0,-1\n",
    "    for j in range(len(s)):\n",
    "        if s[j] in dic:\n",
    "            i = max(dic[s[j]],i)\n",
    "        dic[s[j]] = j\n",
    "        res = max(res,j-i)\n",
    "    return res\n",
    "print(lengthOfLongestSubstring(\"absacdd\"))\n"
   ]
  },
  {
   "cell_type": "markdown",
   "metadata": {},
   "source": [
    "### 第4题"
   ]
  },
  {
   "cell_type": "code",
   "execution_count": 2,
   "metadata": {},
   "outputs": [],
   "source": [
    "\n",
    "def findMedianSortedArrays(self, nums1: list[int], nums2: list[int]) -> float:\n",
    "    nums = nums1+nums2\n",
    "    nums.sort()\n",
    "    l = len(nums)\n",
    "    if(l%2):\n",
    "        return nums[int(l/2)]\n",
    "    else:\n",
    "        return (nums[int(l/2)]+nums[int(l/2)-1])/2\n"
   ]
  },
  {
   "cell_type": "markdown",
   "metadata": {},
   "source": [
    "### 第5题"
   ]
  },
  {
   "cell_type": "markdown",
   "metadata": {},
   "source": [
    "#### 题解\n",
    "<p> abcbga </p>\n",
    "\n",
    "\n",
    "|   | 1 | 2 | 3 | 4 | 5 | 6 |   |   |   |\n",
    "|:---:|:---:|:---:|:---:|:---:|:---:|:---:|:---:|:---:|:---:|\n",
    "| 1 | T | F | F | F | F | F |   |   |   |\n",
    "| 2 |   | T | F | T | F | F |   |   |   |\n",
    "| 3 |   |   | T | T | F | F |   |   |   |\n",
    "| 4 |   |   |   | T | F | F |   |   |   |\n",
    "| 5 |   |   |   |   | T | F |   |   |   |\n",
    "| 6 |   |   |   |   |   | T |   |   |   |\n",
    "|   |   |   |   |   |   |   |   |   |   |\n",
    "|   |   |   |   |   |   |   |   |   |   |\n",
    "|   |   |   |   |   |   |   |   |   |   |\n",
    "\n"
   ]
  },
  {
   "cell_type": "code",
   "execution_count": 11,
   "metadata": {},
   "outputs": [
    {
     "name": "stdout",
     "output_type": "stream",
     "text": [
      "1\n",
      "bcb\n"
     ]
    }
   ],
   "source": [
    "def longestPalindrome(s: str) -> str:\n",
    "    l = len(s)\n",
    "    max_len = 0\n",
    "    if(l<2):\n",
    "        return s\n",
    "    begin = 0\n",
    "    dp = [[False]*l for _ in range(l)]\n",
    "    for i in range(l):\n",
    "        dp[i][i] = True\n",
    "    for rp in range(l):\n",
    "        for lp in range(l):\n",
    "            if(rp<=lp):\n",
    "                break\n",
    "            if(s[rp]==s[lp]):\n",
    "                if((rp-lp)<3):\n",
    "                    dp[lp][rp]= True\n",
    "                else:\n",
    "                    dp[lp][rp]=dp[lp+1][rp-1]\n",
    "            else:\n",
    "                dp[lp][rp]=False\n",
    "            if(dp[lp][rp] and rp-lp+1>max_len):\n",
    "                begin = lp\n",
    "                max_len = rp-lp+1\n",
    "    return s[begin:begin+max_len]\n",
    "print(longestPalindrome(\"abcbga\"))\n"
   ]
  }
 ],
 "metadata": {
  "kernelspec": {
   "display_name": "sun1",
   "language": "python",
   "name": "python3"
  },
  "language_info": {
   "codemirror_mode": {
    "name": "ipython",
    "version": 3
   },
   "file_extension": ".py",
   "mimetype": "text/x-python",
   "name": "python",
   "nbconvert_exporter": "python",
   "pygments_lexer": "ipython3",
   "version": "3.10.16"
  }
 },
 "nbformat": 4,
 "nbformat_minor": 2
}
