{
 "cells": [
  {
   "cell_type": "markdown",
   "metadata": {},
   "source": [
    "### 第3题"
   ]
  },
  {
   "cell_type": "code",
   "execution_count": 1,
   "metadata": {},
   "outputs": [
    {
     "name": "stdout",
     "output_type": "stream",
     "text": [
      "5\n"
     ]
    }
   ],
   "source": [
    "def lengthOfLongestSubstring(s: str) -> int:\n",
    "    dic,res,i = {},0,-1\n",
    "    for j in range(len(s)):\n",
    "        if s[j] in dic:\n",
    "            i = max(dic[s[j]],i)\n",
    "        dic[s[j]] = j\n",
    "        res = max(res,j-i)\n",
    "    return res\n",
    "print(lengthOfLongestSubstring(\"absacdd\"))\n"
   ]
  },
  {
   "cell_type": "markdown",
   "metadata": {},
   "source": [
    "### 第4题"
   ]
  },
  {
   "cell_type": "code",
   "execution_count": 2,
   "metadata": {},
   "outputs": [],
   "source": [
    "\n",
    "def findMedianSortedArrays(self, nums1: list[int], nums2: list[int]) -> float:\n",
    "    nums = nums1+nums2\n",
    "    nums.sort()\n",
    "    l = len(nums)\n",
    "    if(l%2):\n",
    "        return nums[int(l/2)]\n",
    "    else:\n",
    "        return (nums[int(l/2)]+nums[int(l/2)-1])/2\n"
   ]
  },
  {
   "cell_type": "markdown",
   "metadata": {},
   "source": [
    "### 第5题"
   ]
  },
  {
   "cell_type": "markdown",
   "metadata": {},
   "source": [
    "#### 题解"
   ]
  }
 ],
 "metadata": {
  "kernelspec": {
   "display_name": "sun1",
   "language": "python",
   "name": "python3"
  },
  "language_info": {
   "codemirror_mode": {
    "name": "ipython",
    "version": 3
   },
   "file_extension": ".py",
   "mimetype": "text/x-python",
   "name": "python",
   "nbconvert_exporter": "python",
   "pygments_lexer": "ipython3",
   "version": "3.10.16"
  }
 },
 "nbformat": 4,
 "nbformat_minor": 2
}
